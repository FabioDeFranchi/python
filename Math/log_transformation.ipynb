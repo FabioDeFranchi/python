{
 "cells": [
  {
   "cell_type": "code",
   "execution_count": null,
   "metadata": {},
   "outputs": [],
   "source": [
    "import numpy as np\n",
    "import matplotlib.pyplot as plt\n",
    "\n",
    "# Gerando dados de exemplo: preços de casas sigma é o desvio padrão\n",
    "np.random.seed(0)\n",
    "\n",
    "precos_casas = np.random.lognormal(mean = 13, sigma = 0.6, size = 1000)\n",
    "\n",
    "# Aplicando a transformação logarítmica\n",
    "precos_casas_log = np.log(precos_casas)\n",
    "\n",
    "# Criando os gráficos para comparação\n",
    "plt.figure(figsize = (8, 4))\n",
    "\n",
    "# Gráfico dos dados originais\n",
    "plt.subplot(1, 2, 1)\n",
    "plt.hist(precos_casas, bins = 16, color = 'blue', alpha = 0.7)\n",
    "plt.title('Distribuição dos Preços das Casas')\n",
    "plt.xlabel('Preço')\n",
    "plt.ylabel('Frequência')\n",
    "\n",
    "# Gráfico dos dados transformados\n",
    "plt.subplot(1, 2, 2)\n",
    "plt.hist(precos_casas_log, bins = 16, color = 'green', alpha = 0.7)\n",
    "plt.title('Distribuição Logarítmica dos Preços das Casas')\n",
    "plt.xlabel('Log do Preço')\n",
    "plt.ylabel('Frequência')\n",
    "\n",
    "plt.tight_layout()\n",
    "plt.show()"
   ]
  }
 ],
 "metadata": {
  "language_info": {
   "name": "python"
  }
 },
 "nbformat": 4,
 "nbformat_minor": 2
}
